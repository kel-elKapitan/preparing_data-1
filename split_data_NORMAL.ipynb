{
 "cells": [
  {
   "cell_type": "code",
   "execution_count": null,
   "metadata": {},
   "outputs": [],
   "source": []
  },
  {
   "cell_type": "code",
   "execution_count": 1,
   "metadata": {},
   "outputs": [
    {
     "name": "stderr",
     "output_type": "stream",
     "text": [
      "\n",
      "[notice] A new release of pip is available: 24.0 -> 24.3.1\n",
      "[notice] To update, run: C:\\Users\\mrkel\\AppData\\Local\\Microsoft\\WindowsApps\\PythonSoftwareFoundation.Python.3.11_qbz5n2kfra8p0\\python.exe -m pip install --upgrade pip\n"
     ]
    },
    {
     "name": "stdout",
     "output_type": "stream",
     "text": [
      "Collecting pandas\n",
      "  Using cached pandas-2.2.3-cp311-cp311-win_amd64.whl.metadata (19 kB)\n",
      "Collecting numpy>=1.23.2 (from pandas)\n",
      "  Downloading numpy-2.1.3-cp311-cp311-win_amd64.whl.metadata (60 kB)\n",
      "     ---------------------------------------- 0.0/60.8 kB ? eta -:--:--\n",
      "     ------ --------------------------------- 10.2/60.8 kB ? eta -:--:--\n",
      "     ------------ ------------------------- 20.5/60.8 kB 222.6 kB/s eta 0:00:01\n",
      "     ------------------------------- ------ 51.2/60.8 kB 375.8 kB/s eta 0:00:01\n",
      "     -------------------------------------- 60.8/60.8 kB 361.5 kB/s eta 0:00:00\n",
      "Requirement already satisfied: python-dateutil>=2.8.2 in c:\\users\\mrkel\\appdata\\local\\packages\\pythonsoftwarefoundation.python.3.11_qbz5n2kfra8p0\\localcache\\local-packages\\python311\\site-packages (from pandas) (2.9.0.post0)\n",
      "Collecting pytz>=2020.1 (from pandas)\n",
      "  Using cached pytz-2024.2-py2.py3-none-any.whl.metadata (22 kB)\n",
      "Collecting tzdata>=2022.7 (from pandas)\n",
      "  Using cached tzdata-2024.2-py2.py3-none-any.whl.metadata (1.4 kB)\n",
      "Requirement already satisfied: six>=1.5 in c:\\users\\mrkel\\appdata\\local\\packages\\pythonsoftwarefoundation.python.3.11_qbz5n2kfra8p0\\localcache\\local-packages\\python311\\site-packages (from python-dateutil>=2.8.2->pandas) (1.16.0)\n",
      "Using cached pandas-2.2.3-cp311-cp311-win_amd64.whl (11.6 MB)\n",
      "Downloading numpy-2.1.3-cp311-cp311-win_amd64.whl (12.9 MB)\n",
      "   ---------------------------------------- 0.0/12.9 MB ? eta -:--:--\n",
      "   ---------------------------------------- 0.1/12.9 MB 2.6 MB/s eta 0:00:05\n",
      "   - -------------------------------------- 0.4/12.9 MB 4.6 MB/s eta 0:00:03\n",
      "   --- ------------------------------------ 1.3/12.9 MB 10.0 MB/s eta 0:00:02\n",
      "   ----- ---------------------------------- 1.9/12.9 MB 11.0 MB/s eta 0:00:01\n",
      "   ------- -------------------------------- 2.5/12.9 MB 12.2 MB/s eta 0:00:01\n",
      "   ---------- ----------------------------- 3.3/12.9 MB 13.0 MB/s eta 0:00:01\n",
      "   ------------ --------------------------- 4.1/12.9 MB 13.2 MB/s eta 0:00:01\n",
      "   --------------- ------------------------ 5.0/12.9 MB 13.9 MB/s eta 0:00:01\n",
      "   ----------------- ---------------------- 5.6/12.9 MB 14.4 MB/s eta 0:00:01\n",
      "   -------------------- ------------------- 6.5/12.9 MB 14.7 MB/s eta 0:00:01\n",
      "   ---------------------- ----------------- 7.2/12.9 MB 15.4 MB/s eta 0:00:01\n",
      "   ---------------------- ----------------- 7.3/12.9 MB 14.6 MB/s eta 0:00:01\n",
      "   ---------------------- ----------------- 7.3/12.9 MB 14.6 MB/s eta 0:00:01\n",
      "   ----------------------- ---------------- 7.4/12.9 MB 11.8 MB/s eta 0:00:01\n",
      "   ------------------------------- -------- 10.3/12.9 MB 16.0 MB/s eta 0:00:01\n",
      "   --------------------------------- ------ 10.7/12.9 MB 16.4 MB/s eta 0:00:01\n",
      "   ---------------------------------- ----- 11.2/12.9 MB 16.4 MB/s eta 0:00:01\n",
      "   ----------------------------------- ---- 11.5/12.9 MB 15.6 MB/s eta 0:00:01\n",
      "   ------------------------------------- -- 11.9/12.9 MB 14.9 MB/s eta 0:00:01\n",
      "   -------------------------------------- - 12.4/12.9 MB 14.9 MB/s eta 0:00:01\n",
      "   ---------------------------------------  12.9/12.9 MB 14.6 MB/s eta 0:00:01\n",
      "   ---------------------------------------- 12.9/12.9 MB 13.9 MB/s eta 0:00:00\n",
      "Using cached pytz-2024.2-py2.py3-none-any.whl (508 kB)\n",
      "Using cached tzdata-2024.2-py2.py3-none-any.whl (346 kB)\n",
      "Installing collected packages: pytz, tzdata, numpy, pandas\n",
      "Successfully installed numpy-2.1.3 pandas-2.2.3 pytz-2024.2 tzdata-2024.2\n",
      "Note: you may need to restart the kernel to use updated packages.\n"
     ]
    }
   ],
   "source": [
    "# import modules\n",
    "%pip install pandas\n",
    "\n",
    "import pandas as pd\n",
    "import numpy as np\n",
    "import gc\n"
   ]
  },
  {
   "cell_type": "code",
   "execution_count": 2,
   "metadata": {},
   "outputs": [],
   "source": [
    "pd.options.display.max_rows = None"
   ]
  },
  {
   "cell_type": "code",
   "execution_count": 3,
   "metadata": {},
   "outputs": [
    {
     "ename": "ParserError",
     "evalue": "Error tokenizing data. C error: Calling read(nbytes) on source failed. Try engine='python'.",
     "output_type": "error",
     "traceback": [
      "\u001b[1;31m---------------------------------------------------------------------------\u001b[0m",
      "\u001b[1;31mParserError\u001b[0m                               Traceback (most recent call last)",
      "Cell \u001b[1;32mIn[3], line 3\u001b[0m\n\u001b[0;32m      1\u001b[0m \u001b[38;5;66;03m# import the data\u001b[39;00m\n\u001b[1;32m----> 3\u001b[0m raw \u001b[38;5;241m=\u001b[39m \u001b[43mpd\u001b[49m\u001b[38;5;241;43m.\u001b[39;49m\u001b[43mread_csv\u001b[49m\u001b[43m(\u001b[49m\u001b[38;5;124;43m'\u001b[39;49m\u001b[38;5;124;43mused_cars_data.csv\u001b[39;49m\u001b[38;5;124;43m'\u001b[39;49m\u001b[43m)\u001b[49m\n\u001b[0;32m      5\u001b[0m \u001b[38;5;28mprint\u001b[39m(raw)\n",
      "File \u001b[1;32m~\\AppData\\Local\\Packages\\PythonSoftwareFoundation.Python.3.11_qbz5n2kfra8p0\\LocalCache\\local-packages\\Python311\\site-packages\\pandas\\io\\parsers\\readers.py:1026\u001b[0m, in \u001b[0;36mread_csv\u001b[1;34m(filepath_or_buffer, sep, delimiter, header, names, index_col, usecols, dtype, engine, converters, true_values, false_values, skipinitialspace, skiprows, skipfooter, nrows, na_values, keep_default_na, na_filter, verbose, skip_blank_lines, parse_dates, infer_datetime_format, keep_date_col, date_parser, date_format, dayfirst, cache_dates, iterator, chunksize, compression, thousands, decimal, lineterminator, quotechar, quoting, doublequote, escapechar, comment, encoding, encoding_errors, dialect, on_bad_lines, delim_whitespace, low_memory, memory_map, float_precision, storage_options, dtype_backend)\u001b[0m\n\u001b[0;32m   1013\u001b[0m kwds_defaults \u001b[38;5;241m=\u001b[39m _refine_defaults_read(\n\u001b[0;32m   1014\u001b[0m     dialect,\n\u001b[0;32m   1015\u001b[0m     delimiter,\n\u001b[1;32m   (...)\u001b[0m\n\u001b[0;32m   1022\u001b[0m     dtype_backend\u001b[38;5;241m=\u001b[39mdtype_backend,\n\u001b[0;32m   1023\u001b[0m )\n\u001b[0;32m   1024\u001b[0m kwds\u001b[38;5;241m.\u001b[39mupdate(kwds_defaults)\n\u001b[1;32m-> 1026\u001b[0m \u001b[38;5;28;01mreturn\u001b[39;00m \u001b[43m_read\u001b[49m\u001b[43m(\u001b[49m\u001b[43mfilepath_or_buffer\u001b[49m\u001b[43m,\u001b[49m\u001b[43m \u001b[49m\u001b[43mkwds\u001b[49m\u001b[43m)\u001b[49m\n",
      "File \u001b[1;32m~\\AppData\\Local\\Packages\\PythonSoftwareFoundation.Python.3.11_qbz5n2kfra8p0\\LocalCache\\local-packages\\Python311\\site-packages\\pandas\\io\\parsers\\readers.py:626\u001b[0m, in \u001b[0;36m_read\u001b[1;34m(filepath_or_buffer, kwds)\u001b[0m\n\u001b[0;32m    623\u001b[0m     \u001b[38;5;28;01mreturn\u001b[39;00m parser\n\u001b[0;32m    625\u001b[0m \u001b[38;5;28;01mwith\u001b[39;00m parser:\n\u001b[1;32m--> 626\u001b[0m     \u001b[38;5;28;01mreturn\u001b[39;00m \u001b[43mparser\u001b[49m\u001b[38;5;241;43m.\u001b[39;49m\u001b[43mread\u001b[49m\u001b[43m(\u001b[49m\u001b[43mnrows\u001b[49m\u001b[43m)\u001b[49m\n",
      "File \u001b[1;32m~\\AppData\\Local\\Packages\\PythonSoftwareFoundation.Python.3.11_qbz5n2kfra8p0\\LocalCache\\local-packages\\Python311\\site-packages\\pandas\\io\\parsers\\readers.py:1923\u001b[0m, in \u001b[0;36mTextFileReader.read\u001b[1;34m(self, nrows)\u001b[0m\n\u001b[0;32m   1916\u001b[0m nrows \u001b[38;5;241m=\u001b[39m validate_integer(\u001b[38;5;124m\"\u001b[39m\u001b[38;5;124mnrows\u001b[39m\u001b[38;5;124m\"\u001b[39m, nrows)\n\u001b[0;32m   1917\u001b[0m \u001b[38;5;28;01mtry\u001b[39;00m:\n\u001b[0;32m   1918\u001b[0m     \u001b[38;5;66;03m# error: \"ParserBase\" has no attribute \"read\"\u001b[39;00m\n\u001b[0;32m   1919\u001b[0m     (\n\u001b[0;32m   1920\u001b[0m         index,\n\u001b[0;32m   1921\u001b[0m         columns,\n\u001b[0;32m   1922\u001b[0m         col_dict,\n\u001b[1;32m-> 1923\u001b[0m     ) \u001b[38;5;241m=\u001b[39m \u001b[38;5;28;43mself\u001b[39;49m\u001b[38;5;241;43m.\u001b[39;49m\u001b[43m_engine\u001b[49m\u001b[38;5;241;43m.\u001b[39;49m\u001b[43mread\u001b[49m\u001b[43m(\u001b[49m\u001b[43m  \u001b[49m\u001b[38;5;66;43;03m# type: ignore[attr-defined]\u001b[39;49;00m\n\u001b[0;32m   1924\u001b[0m \u001b[43m        \u001b[49m\u001b[43mnrows\u001b[49m\n\u001b[0;32m   1925\u001b[0m \u001b[43m    \u001b[49m\u001b[43m)\u001b[49m\n\u001b[0;32m   1926\u001b[0m \u001b[38;5;28;01mexcept\u001b[39;00m \u001b[38;5;167;01mException\u001b[39;00m:\n\u001b[0;32m   1927\u001b[0m     \u001b[38;5;28mself\u001b[39m\u001b[38;5;241m.\u001b[39mclose()\n",
      "File \u001b[1;32m~\\AppData\\Local\\Packages\\PythonSoftwareFoundation.Python.3.11_qbz5n2kfra8p0\\LocalCache\\local-packages\\Python311\\site-packages\\pandas\\io\\parsers\\c_parser_wrapper.py:234\u001b[0m, in \u001b[0;36mCParserWrapper.read\u001b[1;34m(self, nrows)\u001b[0m\n\u001b[0;32m    232\u001b[0m \u001b[38;5;28;01mtry\u001b[39;00m:\n\u001b[0;32m    233\u001b[0m     \u001b[38;5;28;01mif\u001b[39;00m \u001b[38;5;28mself\u001b[39m\u001b[38;5;241m.\u001b[39mlow_memory:\n\u001b[1;32m--> 234\u001b[0m         chunks \u001b[38;5;241m=\u001b[39m \u001b[38;5;28;43mself\u001b[39;49m\u001b[38;5;241;43m.\u001b[39;49m\u001b[43m_reader\u001b[49m\u001b[38;5;241;43m.\u001b[39;49m\u001b[43mread_low_memory\u001b[49m\u001b[43m(\u001b[49m\u001b[43mnrows\u001b[49m\u001b[43m)\u001b[49m\n\u001b[0;32m    235\u001b[0m         \u001b[38;5;66;03m# destructive to chunks\u001b[39;00m\n\u001b[0;32m    236\u001b[0m         data \u001b[38;5;241m=\u001b[39m _concatenate_chunks(chunks)\n",
      "File \u001b[1;32mparsers.pyx:838\u001b[0m, in \u001b[0;36mpandas._libs.parsers.TextReader.read_low_memory\u001b[1;34m()\u001b[0m\n",
      "File \u001b[1;32mparsers.pyx:905\u001b[0m, in \u001b[0;36mpandas._libs.parsers.TextReader._read_rows\u001b[1;34m()\u001b[0m\n",
      "File \u001b[1;32mparsers.pyx:874\u001b[0m, in \u001b[0;36mpandas._libs.parsers.TextReader._tokenize_rows\u001b[1;34m()\u001b[0m\n",
      "File \u001b[1;32mparsers.pyx:891\u001b[0m, in \u001b[0;36mpandas._libs.parsers.TextReader._check_tokenize_status\u001b[1;34m()\u001b[0m\n",
      "File \u001b[1;32mparsers.pyx:2061\u001b[0m, in \u001b[0;36mpandas._libs.parsers.raise_parser_error\u001b[1;34m()\u001b[0m\n",
      "\u001b[1;31mParserError\u001b[0m: Error tokenizing data. C error: Calling read(nbytes) on source failed. Try engine='python'."
     ]
    }
   ],
   "source": [
    "# import the data\n",
    "\n",
    "raw = pd.read_csv('used_cars_data.csv')\n",
    "\n",
    "print(raw)"
   ]
  },
  {
   "cell_type": "code",
   "execution_count": 5,
   "metadata": {},
   "outputs": [
    {
     "name": "stdout",
     "output_type": "stream",
     "text": [
      "['vin', 'back_legroom', 'bed', 'bed_height', 'bed_length', 'body_type', 'cabin', 'city', 'city_fuel_economy', 'combine_fuel_economy', 'daysonmarket', 'dealer_zip', 'description', 'engine_cylinders', 'engine_displacement', 'engine_type', 'exterior_color', 'fleet', 'frame_damaged', 'franchise_dealer', 'franchise_make', 'front_legroom', 'fuel_tank_volume', 'fuel_type', 'has_accidents', 'height', 'highway_fuel_economy', 'horsepower', 'interior_color', 'isCab', 'is_certified', 'is_cpo', 'is_new', 'is_oemcpo', 'latitude', 'length', 'listed_date', 'listing_color', 'listing_id', 'longitude', 'main_picture_url', 'major_options', 'make_name', 'maximum_seating', 'mileage', 'model_name', 'owner_count', 'power', 'price', 'salvage', 'savings_amount', 'seller_rating', 'sp_id', 'sp_name', 'theft_title', 'torque', 'transmission', 'transmission_display', 'trimId', 'trim_name', 'vehicle_damage_category', 'wheel_system', 'wheel_system_display', 'wheelbase', 'width', 'year']\n"
     ]
    }
   ],
   "source": [
    "all_columns = list(raw.columns)\n",
    "print(all_columns)"
   ]
  },
  {
   "cell_type": "code",
   "execution_count": null,
   "metadata": {},
   "outputs": [],
   "source": [
    "# column types testing\n",
    "\n",
    "print(raw[['vin', 'backlegroom', 'bed', 'bed_height']])"
   ]
  },
  {
   "cell_type": "code",
   "execution_count": 6,
   "metadata": {},
   "outputs": [],
   "source": [
    "# check percentages of missing values in each variable\n",
    "pd.set_option('display.max_rows', None)\n",
    "\n",
    "missing_values = raw.isnull().sum()/len(raw)*100"
   ]
  },
  {
   "cell_type": "code",
   "execution_count": 7,
   "metadata": {},
   "outputs": [
    {
     "name": "stdout",
     "output_type": "stream",
     "text": [
      "vin                          0.000000\n",
      "back_legroom                 5.308896\n",
      "bed                         99.347742\n",
      "bed_height                  85.696924\n",
      "bed_length                  85.696924\n",
      "body_type                    0.451427\n",
      "cabin                       97.882262\n",
      "city                         0.000000\n",
      "city_fuel_economy           16.375948\n",
      "combine_fuel_economy       100.000000\n",
      "daysonmarket                 0.000000\n",
      "dealer_zip                   0.000000\n",
      "description                  2.596665\n",
      "engine_cylinders             3.352655\n",
      "engine_displacement          5.746123\n",
      "engine_type                  3.352655\n",
      "exterior_color               1.665144\n",
      "fleet                       47.552533\n",
      "frame_damaged               47.552533\n",
      "franchise_dealer             0.000000\n",
      "franchise_make              19.087579\n",
      "front_legroom                5.308896\n",
      "fuel_tank_volume             5.308896\n",
      "fuel_type                    2.757430\n",
      "has_accidents               47.552533\n",
      "height                       5.308896\n",
      "highway_fuel_economy        16.375948\n",
      "horsepower                   5.746123\n",
      "interior_color              12.799363\n",
      "isCab                       47.552533\n",
      "is_certified               100.000000\n",
      "is_cpo                      93.903481\n",
      "is_new                       0.000000\n",
      "is_oemcpo                   95.487993\n",
      "latitude                     0.000000\n",
      "length                       5.308896\n",
      "listed_date                  0.000000\n",
      "listing_color                0.000000\n",
      "listing_id                   0.000000\n",
      "longitude                    0.000000\n",
      "main_picture_url            12.302936\n",
      "major_options                6.668178\n",
      "make_name                    0.000000\n",
      "maximum_seating              5.308896\n",
      "mileage                      4.812836\n",
      "model_name                   0.000000\n",
      "owner_count                 50.566426\n",
      "power                       16.047319\n",
      "price                        0.000000\n",
      "salvage                     47.552533\n",
      "savings_amount               0.000000\n",
      "seller_rating                1.362382\n",
      "sp_id                        0.003200\n",
      "sp_name                      0.000000\n",
      "theft_title                 47.552533\n",
      "torque                      17.259537\n",
      "transmission                 2.139471\n",
      "transmission_display         2.139471\n",
      "trimId                       3.860849\n",
      "trim_name                    3.876415\n",
      "vehicle_damage_category    100.000000\n",
      "wheel_system                 4.891001\n",
      "wheel_system_display         4.891001\n",
      "wheelbase                    5.308896\n",
      "width                        5.308896\n",
      "year                         0.000000\n",
      "dtype: float64\n"
     ]
    }
   ],
   "source": [
    "print(missing_values)"
   ]
  },
  {
   "cell_type": "code",
   "execution_count": 8,
   "metadata": {},
   "outputs": [
    {
     "name": "stderr",
     "output_type": "stream",
     "text": [
      "C:\\Users\\mrkel\\AppData\\Local\\Temp\\ipykernel_9732\\2807168897.py:6: FutureWarning: Series.__getitem__ treating keys as positions is deprecated. In a future version, integer keys will always be treated as labels (consistent with DataFrame behavior). To access a value by position, use `ser.iloc[pos]`\n",
      "  if missing_values[i] <=10: # set threshold to 10%\n"
     ]
    }
   ],
   "source": [
    "# remove variables with more than 10% missing values\n",
    "variables = raw.columns\n",
    "variable = []\n",
    "\n",
    "for i in range(0,len(variables)-1):\n",
    "    if missing_values[i] <=10: # set threshold to 10%\n",
    "        variable.append(variables[i])\n",
    "# Create dataframe with the reduced number of variables\n",
    "raw_slimmed = raw[variable].copy(deep=True)\n",
    "\n",
    "del(raw)\n",
    "gc.collect()\n",
    "# drop any records that have any missing values left at this point\n",
    "raw_slimmed.dropna(inplace=True)"
   ]
  },
  {
   "cell_type": "code",
   "execution_count": 9,
   "metadata": {},
   "outputs": [
    {
     "name": "stdout",
     "output_type": "stream",
     "text": [
      "                 vin back_legroom        body_type      city  daysonmarket  \\\n",
      "0  ZACNJABB5KPJ92081      35.1 in  SUV / Crossover   Bayamon           522   \n",
      "1  SALCJ2FX1LH858117      38.1 in  SUV / Crossover  San Juan           207   \n",
      "4  SALCJ2FXXLH862327      38.1 in  SUV / Crossover  San Juan           137   \n",
      "5  SALYK2EX1LA261711      37.1 in  SUV / Crossover  San Juan           242   \n",
      "6  3MZBPABL6KM107908      35.1 in            Sedan   Bayamon           447   \n",
      "\n",
      "  dealer_zip                                        description  \\\n",
      "0        960  [!@@Additional Info@@!]Engine: 2.4L I4 ZERO EV...   \n",
      "1        922  [!@@Additional Info@@!]Keyless Entry,Ebony Mor...   \n",
      "4        922  [!@@Additional Info@@!]Keyless Entry,Ebony Mor...   \n",
      "5        922  [!@@Additional Info@@!]Tires: 21' All-Season,A...   \n",
      "6        960  [!@@Additional Info@@!]4-Wheel Disc Brakes,A/C...   \n",
      "\n",
      "  engine_cylinders  engine_displacement engine_type  ...     sp_id  \\\n",
      "0               I4               1300.0          I4  ...  370599.0   \n",
      "1               I4               2000.0          I4  ...  389227.0   \n",
      "4               I4               2000.0          I4  ...  389227.0   \n",
      "5               I4               2000.0          I4  ...  389227.0   \n",
      "6               I4               2500.0          I4  ...  370599.0   \n",
      "\n",
      "               sp_name transmission         transmission_display  trimId  \\\n",
      "0    Flagship Chrysler            A  9-Speed Automatic Overdrive  t83804   \n",
      "1  Land Rover San Juan            A  9-Speed Automatic Overdrive  t86759   \n",
      "4  Land Rover San Juan            A  9-Speed Automatic Overdrive  t86759   \n",
      "5  Land Rover San Juan            A  8-Speed Automatic Overdrive  t85614   \n",
      "6    Flagship Chrysler            A  6-Speed Automatic Overdrive  t85256   \n",
      "\n",
      "              trim_name  wheel_system  wheel_system_display  wheelbase  \\\n",
      "0          Latitude FWD           FWD     Front-Wheel Drive   101.2 in   \n",
      "1                 S AWD           AWD       All-Wheel Drive   107.9 in   \n",
      "4                 S AWD           AWD       All-Wheel Drive   107.9 in   \n",
      "5  P250 R-Dynamic S AWD           AWD       All-Wheel Drive   113.1 in   \n",
      "6             Sedan FWD           FWD     Front-Wheel Drive   107.3 in   \n",
      "\n",
      "     width  \n",
      "0  79.6 in  \n",
      "1  85.6 in  \n",
      "4  85.6 in  \n",
      "5  84.4 in  \n",
      "6  70.7 in  \n",
      "\n",
      "[5 rows x 42 columns]\n"
     ]
    }
   ],
   "source": [
    "print(raw_slimmed.head())"
   ]
  },
  {
   "cell_type": "code",
   "execution_count": 10,
   "metadata": {},
   "outputs": [
    {
     "name": "stdout",
     "output_type": "stream",
     "text": [
      "2392242\n"
     ]
    }
   ],
   "source": [
    "print(len(raw_slimmed))"
   ]
  },
  {
   "cell_type": "code",
   "execution_count": 11,
   "metadata": {},
   "outputs": [
    {
     "name": "stdout",
     "output_type": "stream",
     "text": [
      "vin                     0.0\n",
      "back_legroom            0.0\n",
      "body_type               0.0\n",
      "city                    0.0\n",
      "daysonmarket            0.0\n",
      "dealer_zip              0.0\n",
      "description             0.0\n",
      "engine_cylinders        0.0\n",
      "engine_displacement     0.0\n",
      "engine_type             0.0\n",
      "exterior_color          0.0\n",
      "franchise_dealer        0.0\n",
      "front_legroom           0.0\n",
      "fuel_tank_volume        0.0\n",
      "fuel_type               0.0\n",
      "height                  0.0\n",
      "horsepower              0.0\n",
      "is_new                  0.0\n",
      "latitude                0.0\n",
      "length                  0.0\n",
      "listed_date             0.0\n",
      "listing_color           0.0\n",
      "listing_id              0.0\n",
      "longitude               0.0\n",
      "major_options           0.0\n",
      "make_name               0.0\n",
      "maximum_seating         0.0\n",
      "mileage                 0.0\n",
      "model_name              0.0\n",
      "price                   0.0\n",
      "savings_amount          0.0\n",
      "seller_rating           0.0\n",
      "sp_id                   0.0\n",
      "sp_name                 0.0\n",
      "transmission            0.0\n",
      "transmission_display    0.0\n",
      "trimId                  0.0\n",
      "trim_name               0.0\n",
      "wheel_system            0.0\n",
      "wheel_system_display    0.0\n",
      "wheelbase               0.0\n",
      "width                   0.0\n",
      "dtype: float64\n"
     ]
    }
   ],
   "source": [
    "missing_values = raw_slimmed.isnull().sum()/len(raw_slimmed)*100\n",
    "\n",
    "print(missing_values)"
   ]
  },
  {
   "cell_type": "code",
   "execution_count": 12,
   "metadata": {},
   "outputs": [
    {
     "name": "stdout",
     "output_type": "stream",
     "text": [
      "42\n",
      "2392242\n"
     ]
    }
   ],
   "source": [
    "col_length = len(raw_slimmed.columns)\n",
    "row_number = len(raw_slimmed)\n",
    "\n",
    "print(col_length)\n",
    "print(row_number)\n",
    "\n",
    "lengths = pd.DataFrame([col_length, row_number])\n",
    "\n",
    "lengths.to_csv('NORMAL_results.csv', index=False, header=False)"
   ]
  }
 ],
 "metadata": {
  "kernelspec": {
   "display_name": "Python 3",
   "language": "python",
   "name": "python3"
  },
  "language_info": {
   "codemirror_mode": {
    "name": "ipython",
    "version": 3
   },
   "file_extension": ".py",
   "mimetype": "text/x-python",
   "name": "python",
   "nbconvert_exporter": "python",
   "pygments_lexer": "ipython3",
   "version": "3.11.9"
  }
 },
 "nbformat": 4,
 "nbformat_minor": 2
}
