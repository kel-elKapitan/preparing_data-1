{
 "cells": [
  {
   "cell_type": "code",
   "execution_count": null,
   "metadata": {},
   "outputs": [],
   "source": []
  },
  {
   "cell_type": "code",
   "execution_count": null,
   "metadata": {},
   "outputs": [],
   "source": [
    "# import modules\n",
    "%pip install pandas\n",
    "\n",
    "import pandas as pd\n",
    "import numpy as np\n",
    "import gc\n"
   ]
  },
  {
   "cell_type": "code",
   "execution_count": null,
   "metadata": {},
   "outputs": [],
   "source": [
    "pd.options.display.max_rows = None"
   ]
  },
  {
   "cell_type": "code",
   "execution_count": null,
   "metadata": {},
   "outputs": [],
   "source": [
    "# import the data\n",
    "\n",
    "raw = pd.read_csv('used_cars_data.csv')\n",
    "\n",
    "print(raw)"
   ]
  },
  {
   "cell_type": "code",
   "execution_count": null,
   "metadata": {},
   "outputs": [],
   "source": [
    "all_columns = list(raw.columns)\n",
    "print(all_columns)"
   ]
  },
  {
   "cell_type": "code",
   "execution_count": null,
   "metadata": {},
   "outputs": [],
   "source": [
    "# column types testing\n",
    "\n",
    "print(raw[['vin', 'backlegroom', 'bed', 'bed_height']])"
   ]
  },
  {
   "cell_type": "code",
   "execution_count": null,
   "metadata": {},
   "outputs": [],
   "source": [
    "# check percentages of missing values in each variable\n",
    "pd.set_option('display.max_rows', None)\n",
    "\n",
    "missing_values = raw.isnull().sum()/len(raw)*100"
   ]
  },
  {
   "cell_type": "code",
   "execution_count": null,
   "metadata": {},
   "outputs": [],
   "source": [
    "print(missing_values)"
   ]
  },
  {
   "cell_type": "code",
   "execution_count": null,
   "metadata": {},
   "outputs": [],
   "source": [
    "# remove variables with more than 10% missing values\n",
    "variables = raw.columns\n",
    "variable = []\n",
    "\n",
    "for i in range(0,len(variables)-1):\n",
    "    if missing_values[i] <=10: # set threshold to 10%\n",
    "        variable.append(variables[i])\n",
    "# Create dataframe with the reduced number of variables\n",
    "raw_slimmed = raw[variable].copy(deep=True)\n",
    "\n",
    "del(raw)\n",
    "gc.collect()\n",
    "# drop any records that have any missing values left at this point\n",
    "raw_slimmed.dropna(inplace=True)"
   ]
  },
  {
   "cell_type": "code",
   "execution_count": null,
   "metadata": {},
   "outputs": [],
   "source": [
    "print(raw_slimmed.head())"
   ]
  },
  {
   "cell_type": "code",
   "execution_count": null,
   "metadata": {},
   "outputs": [],
   "source": [
    "print(len(raw_slimmed))"
   ]
  },
  {
   "cell_type": "code",
   "execution_count": null,
   "metadata": {},
   "outputs": [],
   "source": [
    "missing_values = raw_slimmed.isnull().sum()/len(raw_slimmed)*100\n",
    "\n",
    "print(missing_values)"
   ]
  },
  {
   "cell_type": "code",
   "execution_count": null,
   "metadata": {},
   "outputs": [],
   "source": [
    "col_length = len(raw_slimmed.columns)\n",
    "row_number = len(raw_slimmed)\n",
    "\n",
    "print(col_length)\n",
    "print(row_number)\n",
    "\n",
    "lengths = pd.DataFrame([col_length, row_number])\n",
    "\n",
    "lengths.to_csv('NORMAL_results.csv', index=False, header=False)"
   ]
  }
 ],
 "metadata": {
  "kernelspec": {
   "display_name": "Python 3",
   "language": "python",
   "name": "python3"
  },
  "language_info": {
   "codemirror_mode": {
    "name": "ipython",
    "version": 3
   },
   "file_extension": ".py",
   "mimetype": "text/x-python",
   "name": "python",
   "nbconvert_exporter": "python",
   "pygments_lexer": "ipython3",
   "version": "3.11.9"
  }
 },
 "nbformat": 4,
 "nbformat_minor": 2
}
