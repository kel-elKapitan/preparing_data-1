{
 "cells": [
  {
   "cell_type": "code",
   "execution_count": null,
   "metadata": {},
   "outputs": [],
   "source": []
  },
  {
   "cell_type": "code",
   "execution_count": 2,
   "metadata": {},
   "outputs": [],
   "source": [
    "# import modules\n",
    "\n",
    "import pandas as pd\n",
    "import numpy as np\n",
    "import gc\n"
   ]
  },
  {
   "cell_type": "code",
   "execution_count": 3,
   "metadata": {},
   "outputs": [],
   "source": [
    "pd.options.display.max_rows = 4000"
   ]
  },
  {
   "cell_type": "code",
   "execution_count": 4,
   "metadata": {},
   "outputs": [
    {
     "name": "stderr",
     "output_type": "stream",
     "text": [
      "C:\\Users\\mrkel\\AppData\\Local\\Temp\\ipykernel_9732\\3157427677.py:3: DtypeWarning: Columns (11) have mixed types. Specify dtype option on import or set low_memory=False.\n",
      "  raw = pd.read_csv('used_cars_data.csv')\n"
     ]
    },
    {
     "name": "stdout",
     "output_type": "stream",
     "text": [
      "                       vin back_legroom  bed bed_height bed_length  \\\n",
      "0        ZACNJABB5KPJ92081      35.1 in  NaN        NaN        NaN   \n",
      "1        SALCJ2FX1LH858117      38.1 in  NaN        NaN        NaN   \n",
      "2        JF1VA2M67G9829723      35.4 in  NaN        NaN        NaN   \n",
      "3        SALRR2RV0L2433391      37.6 in  NaN        NaN        NaN   \n",
      "4        SALCJ2FXXLH862327      38.1 in  NaN        NaN        NaN   \n",
      "...                    ...          ...  ...        ...        ...   \n",
      "3000035  2GNAXJEV0J6261526      39.7 in  NaN        NaN        NaN   \n",
      "3000036  1GNERFKW0LJ225508      38.4 in  NaN        NaN        NaN   \n",
      "3000037  3FA6P0HD3GR134062      38.3 in  NaN        NaN        NaN   \n",
      "3000038  SAJAJ4BNXHA968809        35 in  NaN        NaN        NaN   \n",
      "3000039  JN8AT2MT1HW400805      37.9 in  NaN        NaN        NaN   \n",
      "\n",
      "               body_type cabin       city  city_fuel_economy  \\\n",
      "0        SUV / Crossover   NaN    Bayamon                NaN   \n",
      "1        SUV / Crossover   NaN   San Juan                NaN   \n",
      "2                  Sedan   NaN   Guaynabo               17.0   \n",
      "3        SUV / Crossover   NaN   San Juan                NaN   \n",
      "4        SUV / Crossover   NaN   San Juan                NaN   \n",
      "...                  ...   ...        ...                ...   \n",
      "3000035  SUV / Crossover   NaN  Fairfield               26.0   \n",
      "3000036  SUV / Crossover   NaN    Vallejo               18.0   \n",
      "3000037            Sedan   NaN       Napa                NaN   \n",
      "3000038            Sedan   NaN  Fairfield               30.0   \n",
      "3000039  SUV / Crossover   NaN       Napa               26.0   \n",
      "\n",
      "         combine_fuel_economy  ...  transmission         transmission_display  \\\n",
      "0                         NaN  ...             A  9-Speed Automatic Overdrive   \n",
      "1                         NaN  ...             A  9-Speed Automatic Overdrive   \n",
      "2                         NaN  ...             M               6-Speed Manual   \n",
      "3                         NaN  ...             A  8-Speed Automatic Overdrive   \n",
      "4                         NaN  ...             A  9-Speed Automatic Overdrive   \n",
      "...                       ...  ...           ...                          ...   \n",
      "3000035                   NaN  ...             A                    Automatic   \n",
      "3000036                   NaN  ...             A                    Automatic   \n",
      "3000037                   NaN  ...             A  6-Speed Automatic Overdrive   \n",
      "3000038                   NaN  ...             A                    Automatic   \n",
      "3000039                   NaN  ...             A                    Automatic   \n",
      "\n",
      "         trimId        trim_name  vehicle_damage_category wheel_system  \\\n",
      "0        t83804     Latitude FWD                      NaN          FWD   \n",
      "1        t86759            S AWD                      NaN          AWD   \n",
      "2        t58994             Base                      NaN          AWD   \n",
      "3        t86074       V6 HSE AWD                      NaN          AWD   \n",
      "4        t86759            S AWD                      NaN          AWD   \n",
      "...         ...              ...                      ...          ...   \n",
      "3000035  t72936      1.5T LT FWD                      NaN          FWD   \n",
      "3000036  t85763           LS FWD                      NaN          FWD   \n",
      "3000037  t57569               SE                      NaN          FWD   \n",
      "3000038  t65977  20d Premium AWD                      NaN          AWD   \n",
      "3000039  t76529    2017.5 SV FWD                      NaN          FWD   \n",
      "\n",
      "        wheel_system_display wheelbase    width  year  \n",
      "0          Front-Wheel Drive  101.2 in  79.6 in  2019  \n",
      "1            All-Wheel Drive  107.9 in  85.6 in  2020  \n",
      "2            All-Wheel Drive  104.3 in  78.9 in  2016  \n",
      "3            All-Wheel Drive    115 in  87.4 in  2020  \n",
      "4            All-Wheel Drive  107.9 in  85.6 in  2020  \n",
      "...                      ...       ...      ...   ...  \n",
      "3000035    Front-Wheel Drive  107.3 in  72.6 in  2018  \n",
      "3000036    Front-Wheel Drive  120.9 in  78.6 in  2020  \n",
      "3000037    Front-Wheel Drive  112.2 in  83.5 in  2016  \n",
      "3000038      All-Wheel Drive  111.6 in  81.7 in  2017  \n",
      "3000039    Front-Wheel Drive  106.5 in  72.4 in  2017  \n",
      "\n",
      "[3000040 rows x 66 columns]\n"
     ]
    }
   ],
   "source": [
    "# import the data\n",
    "\n",
    "raw = pd.read_csv('used_cars_data.csv')\n",
    "\n",
    "print(raw)"
   ]
  },
  {
   "cell_type": "code",
   "execution_count": 5,
   "metadata": {},
   "outputs": [
    {
     "name": "stdout",
     "output_type": "stream",
     "text": [
      "['vin', 'back_legroom', 'bed', 'bed_height', 'bed_length', 'body_type', 'cabin', 'city', 'city_fuel_economy', 'combine_fuel_economy', 'daysonmarket', 'dealer_zip', 'description', 'engine_cylinders', 'engine_displacement', 'engine_type', 'exterior_color', 'fleet', 'frame_damaged', 'franchise_dealer', 'franchise_make', 'front_legroom', 'fuel_tank_volume', 'fuel_type', 'has_accidents', 'height', 'highway_fuel_economy', 'horsepower', 'interior_color', 'isCab', 'is_certified', 'is_cpo', 'is_new', 'is_oemcpo', 'latitude', 'length', 'listed_date', 'listing_color', 'listing_id', 'longitude', 'main_picture_url', 'major_options', 'make_name', 'maximum_seating', 'mileage', 'model_name', 'owner_count', 'power', 'price', 'salvage', 'savings_amount', 'seller_rating', 'sp_id', 'sp_name', 'theft_title', 'torque', 'transmission', 'transmission_display', 'trimId', 'trim_name', 'vehicle_damage_category', 'wheel_system', 'wheel_system_display', 'wheelbase', 'width', 'year']\n"
     ]
    }
   ],
   "source": [
    "all_columns = list(raw.columns)\n",
    "print(all_columns)"
   ]
  },
  {
   "cell_type": "code",
   "execution_count": 6,
   "metadata": {},
   "outputs": [],
   "source": [
    "# check percentages of missing values in each variable\n",
    "pd.set_option('display.max_rows', None)\n",
    "\n",
    "missing_values = raw.isnull().sum()/len(raw)*100"
   ]
  },
  {
   "cell_type": "code",
   "execution_count": 7,
   "metadata": {},
   "outputs": [
    {
     "name": "stdout",
     "output_type": "stream",
     "text": [
      "vin                          0.000000\n",
      "back_legroom                 5.308896\n",
      "bed                         99.347742\n",
      "bed_height                  85.696924\n",
      "bed_length                  85.696924\n",
      "body_type                    0.451427\n",
      "cabin                       97.882262\n",
      "city                         0.000000\n",
      "city_fuel_economy           16.375948\n",
      "combine_fuel_economy       100.000000\n",
      "daysonmarket                 0.000000\n",
      "dealer_zip                   0.000000\n",
      "description                  2.596665\n",
      "engine_cylinders             3.352655\n",
      "engine_displacement          5.746123\n",
      "engine_type                  3.352655\n",
      "exterior_color               1.665144\n",
      "fleet                       47.552533\n",
      "frame_damaged               47.552533\n",
      "franchise_dealer             0.000000\n",
      "franchise_make              19.087579\n",
      "front_legroom                5.308896\n",
      "fuel_tank_volume             5.308896\n",
      "fuel_type                    2.757430\n",
      "has_accidents               47.552533\n",
      "height                       5.308896\n",
      "highway_fuel_economy        16.375948\n",
      "horsepower                   5.746123\n",
      "interior_color              12.799363\n",
      "isCab                       47.552533\n",
      "is_certified               100.000000\n",
      "is_cpo                      93.903481\n",
      "is_new                       0.000000\n",
      "is_oemcpo                   95.487993\n",
      "latitude                     0.000000\n",
      "length                       5.308896\n",
      "listed_date                  0.000000\n",
      "listing_color                0.000000\n",
      "listing_id                   0.000000\n",
      "longitude                    0.000000\n",
      "main_picture_url            12.302936\n",
      "major_options                6.668178\n",
      "make_name                    0.000000\n",
      "maximum_seating              5.308896\n",
      "mileage                      4.812836\n",
      "model_name                   0.000000\n",
      "owner_count                 50.566426\n",
      "power                       16.047319\n",
      "price                        0.000000\n",
      "salvage                     47.552533\n",
      "savings_amount               0.000000\n",
      "seller_rating                1.362382\n",
      "sp_id                        0.003200\n",
      "sp_name                      0.000000\n",
      "theft_title                 47.552533\n",
      "torque                      17.259537\n",
      "transmission                 2.139471\n",
      "transmission_display         2.139471\n",
      "trimId                       3.860849\n",
      "trim_name                    3.876415\n",
      "vehicle_damage_category    100.000000\n",
      "wheel_system                 4.891001\n",
      "wheel_system_display         4.891001\n",
      "wheelbase                    5.308896\n",
      "width                        5.308896\n",
      "year                         0.000000\n",
      "dtype: float64\n"
     ]
    }
   ],
   "source": [
    "print(missing_values)"
   ]
  },
  {
   "cell_type": "code",
   "execution_count": 8,
   "metadata": {},
   "outputs": [
    {
     "name": "stderr",
     "output_type": "stream",
     "text": [
      "C:\\Users\\mrkel\\AppData\\Local\\Temp\\ipykernel_9732\\2807168897.py:6: FutureWarning: Series.__getitem__ treating keys as positions is deprecated. In a future version, integer keys will always be treated as labels (consistent with DataFrame behavior). To access a value by position, use `ser.iloc[pos]`\n",
      "  if missing_values[i] <=10: # set threshold to 10%\n"
     ]
    }
   ],
   "source": [
    "# remove variables with more than 10% missing values\n",
    "variables = raw.columns\n",
    "variable = []\n",
    "\n",
    "for i in range(0,len(variables)-1):\n",
    "    if missing_values[i] <=10: # set threshold to 10%\n",
    "        variable.append(variables[i])\n",
    "# Create dataframe with the reduced number of variables\n",
    "raw_slimmed = raw[variable].copy(deep=True)\n",
    "\n",
    "del(raw)\n",
    "gc.collect()\n",
    "# drop any records that have any missing values left at this point\n",
    "raw_slimmed.dropna(inplace=True)"
   ]
  },
  {
   "cell_type": "code",
   "execution_count": 9,
   "metadata": {},
   "outputs": [
    {
     "name": "stdout",
     "output_type": "stream",
     "text": [
      "                 vin back_legroom        body_type      city  daysonmarket  \\\n",
      "0  ZACNJABB5KPJ92081      35.1 in  SUV / Crossover   Bayamon           522   \n",
      "1  SALCJ2FX1LH858117      38.1 in  SUV / Crossover  San Juan           207   \n",
      "4  SALCJ2FXXLH862327      38.1 in  SUV / Crossover  San Juan           137   \n",
      "5  SALYK2EX1LA261711      37.1 in  SUV / Crossover  San Juan           242   \n",
      "6  3MZBPABL6KM107908      35.1 in            Sedan   Bayamon           447   \n",
      "\n",
      "  dealer_zip                                        description  \\\n",
      "0        960  [!@@Additional Info@@!]Engine: 2.4L I4 ZERO EV...   \n",
      "1        922  [!@@Additional Info@@!]Keyless Entry,Ebony Mor...   \n",
      "4        922  [!@@Additional Info@@!]Keyless Entry,Ebony Mor...   \n",
      "5        922  [!@@Additional Info@@!]Tires: 21' All-Season,A...   \n",
      "6        960  [!@@Additional Info@@!]4-Wheel Disc Brakes,A/C...   \n",
      "\n",
      "  engine_cylinders  engine_displacement engine_type  ...     sp_id  \\\n",
      "0               I4               1300.0          I4  ...  370599.0   \n",
      "1               I4               2000.0          I4  ...  389227.0   \n",
      "4               I4               2000.0          I4  ...  389227.0   \n",
      "5               I4               2000.0          I4  ...  389227.0   \n",
      "6               I4               2500.0          I4  ...  370599.0   \n",
      "\n",
      "               sp_name transmission         transmission_display  trimId  \\\n",
      "0    Flagship Chrysler            A  9-Speed Automatic Overdrive  t83804   \n",
      "1  Land Rover San Juan            A  9-Speed Automatic Overdrive  t86759   \n",
      "4  Land Rover San Juan            A  9-Speed Automatic Overdrive  t86759   \n",
      "5  Land Rover San Juan            A  8-Speed Automatic Overdrive  t85614   \n",
      "6    Flagship Chrysler            A  6-Speed Automatic Overdrive  t85256   \n",
      "\n",
      "              trim_name  wheel_system  wheel_system_display  wheelbase  \\\n",
      "0          Latitude FWD           FWD     Front-Wheel Drive   101.2 in   \n",
      "1                 S AWD           AWD       All-Wheel Drive   107.9 in   \n",
      "4                 S AWD           AWD       All-Wheel Drive   107.9 in   \n",
      "5  P250 R-Dynamic S AWD           AWD       All-Wheel Drive   113.1 in   \n",
      "6             Sedan FWD           FWD     Front-Wheel Drive   107.3 in   \n",
      "\n",
      "     width  \n",
      "0  79.6 in  \n",
      "1  85.6 in  \n",
      "4  85.6 in  \n",
      "5  84.4 in  \n",
      "6  70.7 in  \n",
      "\n",
      "[5 rows x 42 columns]\n"
     ]
    }
   ],
   "source": [
    "print(raw_slimmed.head())"
   ]
  },
  {
   "cell_type": "code",
   "execution_count": 10,
   "metadata": {},
   "outputs": [
    {
     "name": "stdout",
     "output_type": "stream",
     "text": [
      "2392242\n"
     ]
    }
   ],
   "source": [
    "print(len(raw_slimmed))"
   ]
  },
  {
   "cell_type": "code",
   "execution_count": 11,
   "metadata": {},
   "outputs": [
    {
     "name": "stdout",
     "output_type": "stream",
     "text": [
      "vin                     0.0\n",
      "back_legroom            0.0\n",
      "body_type               0.0\n",
      "city                    0.0\n",
      "daysonmarket            0.0\n",
      "dealer_zip              0.0\n",
      "description             0.0\n",
      "engine_cylinders        0.0\n",
      "engine_displacement     0.0\n",
      "engine_type             0.0\n",
      "exterior_color          0.0\n",
      "franchise_dealer        0.0\n",
      "front_legroom           0.0\n",
      "fuel_tank_volume        0.0\n",
      "fuel_type               0.0\n",
      "height                  0.0\n",
      "horsepower              0.0\n",
      "is_new                  0.0\n",
      "latitude                0.0\n",
      "length                  0.0\n",
      "listed_date             0.0\n",
      "listing_color           0.0\n",
      "listing_id              0.0\n",
      "longitude               0.0\n",
      "major_options           0.0\n",
      "make_name               0.0\n",
      "maximum_seating         0.0\n",
      "mileage                 0.0\n",
      "model_name              0.0\n",
      "price                   0.0\n",
      "savings_amount          0.0\n",
      "seller_rating           0.0\n",
      "sp_id                   0.0\n",
      "sp_name                 0.0\n",
      "transmission            0.0\n",
      "transmission_display    0.0\n",
      "trimId                  0.0\n",
      "trim_name               0.0\n",
      "wheel_system            0.0\n",
      "wheel_system_display    0.0\n",
      "wheelbase               0.0\n",
      "width                   0.0\n",
      "dtype: float64\n"
     ]
    }
   ],
   "source": [
    "missing_values = raw_slimmed.isnull().sum()/len(raw_slimmed)*100\n",
    "\n",
    "print(missing_values)"
   ]
  },
  {
   "cell_type": "code",
   "execution_count": 12,
   "metadata": {},
   "outputs": [
    {
     "name": "stdout",
     "output_type": "stream",
     "text": [
      "42\n",
      "2392242\n"
     ]
    }
   ],
   "source": [
    "col_length = len(raw_slimmed.columns)\n",
    "row_number = len(raw_slimmed)\n",
    "\n",
    "print(col_length)\n",
    "print(row_number)\n",
    "\n",
    "lengths = pd.DataFrame([col_length, row_number])\n",
    "\n",
    "lengths.to_csv('NORMAL_results.csv', index=False, header=False)"
   ]
  }
 ],
 "metadata": {
  "kernelspec": {
   "display_name": ".venv",
   "language": "python",
   "name": "python3"
  },
  "language_info": {
   "codemirror_mode": {
    "name": "ipython",
    "version": 3
   },
   "file_extension": ".py",
   "mimetype": "text/x-python",
   "name": "python",
   "nbconvert_exporter": "python",
   "pygments_lexer": "ipython3",
   "version": "3.11.9"
  }
 },
 "nbformat": 4,
 "nbformat_minor": 2
}
