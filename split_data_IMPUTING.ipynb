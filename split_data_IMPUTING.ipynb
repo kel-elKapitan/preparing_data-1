{
 "cells": [
  {
   "cell_type": "code",
   "execution_count": null,
   "metadata": {},
   "outputs": [],
   "source": [
    "# Retain as many rows and columns from cleaning data using Hot-Deck imputing method\n"
   ]
  },
  {
   "cell_type": "code",
   "execution_count": null,
   "metadata": {},
   "outputs": [],
   "source": [
    "\n",
    "\n"
   ]
  },
  {
   "cell_type": "code",
   "execution_count": null,
   "metadata": {},
   "outputs": [],
   "source": [
    "# pd.options.display.max_rows = None\n"
   ]
  },
  {
   "cell_type": "code",
   "execution_count": null,
   "metadata": {},
   "outputs": [],
   "source": [
    "# import data, split and return ram back to system by using a function that will call a separate python instance fr the function only\n",
    "\n",
    "def get_data():\n",
    "    # import modules\n",
    "    import pandas as pd\n",
    "\n",
    "    # import data\n",
    "    raw = pd.read_csv('used_cars_data.csv')\n",
    "\n",
    "    # sanity check part 1\n",
    "    print(raw.columns)\n",
    "    print(len(raw.columns))\n",
    "\n",
    "    # get categorical data, deep copy\n",
    "    raw_categorical = raw[['body_type', 'cabin', 'city', 'engine_type', 'exterior_color', 'fleet', 'frame_damaged', 'franchise_dealer', 'franchise_make', 'fuel_type', 'has_accidents', 'interior_color', 'isCab', 'is_certified', 'is_cpo', 'is_new', 'is_oemcpo', 'listing_color', 'make_name', 'model_name', 'salvage', 'sp_name', 'theft_title', 'trim_name', 'vehicle_damage_category']].copy(deep=True)\n",
    "\n",
    "    # get continuous data, deep copy\n",
    "    raw_continuious = raw[['back_legroom', 'bed', 'bed_height', 'bed_length', 'city_fuel_economy', 'combine_fuel_economy', 'daysonmarket', 'engine_cylinders', 'engine_displacement', 'front_legroom', 'fuel_tank_volume', 'height', 'highway_fuel_economy', 'horsepower', 'length', 'maximum_seating', 'mileage', 'owner_count', 'power', 'price', 'savings_amount', 'width', 'year']].copy(deep=True)\n",
    "\n",
    "    # get the problem features\n",
    "    raw_problems = raw[['description', 'major_options', 'seller_rating', 'torque', 'transmission', 'transmission_display', 'wheel_system', 'wheel_system_display', 'wheelbase']].copy(deep=True)\n",
    "\n",
    "    # get the probable primary keys\n",
    "    raw_primaries = raw[['vin', 'listing_id', 'sp_id', 'trimId']]\n",
    "\n",
    "    # get the misc, date and location features\n",
    "    raw_misc = raw[['dealer_zip', 'engine_displacement', 'listed_date', 'longitude', 'main_picture_url']]\n",
    "\n",
    "\n",
    "    # sanity check part 2\n",
    "    total_features = len(raw_categorical.columns) + len(raw_continuious.columns) + len(raw_problems.columns) + len(raw_primaries.columns) + len(raw_misc.columns)\n",
    "    print(total_features)\n",
    "\n",
    "    # return only the data you want to work with as ram allows ~9gb\n",
    "\n",
    "\n",
    "    return raw_primaries, raw_problems\n",
    "\n",
    "\n",
    "\n",
    "\n"
   ]
  },
  {
   "cell_type": "code",
   "execution_count": null,
   "metadata": {},
   "outputs": [],
   "source": [
    "primaries, problems = get_data()"
   ]
  },
  {
   "cell_type": "code",
   "execution_count": null,
   "metadata": {},
   "outputs": [],
   "source": [
    "# checking total and discinct count on primaries features ----- can be saved to variables when needed\n",
    "\n",
    "print(primaries.columns)\n",
    "primary_cols = primaries.columns\n",
    "\n",
    "for col in primaries.columns:\n",
    "\n",
    "    distinct_num_of = primaries[col].nunique()\n",
    "\n",
    "\n",
    "    print(col)\n",
    "    print(distinct_num_of)\n",
    "    print(len(primaries[col]))\n",
    "    print(' ')\n",
    "\n"
   ]
  },
  {
   "cell_type": "code",
   "execution_count": null,
   "metadata": {},
   "outputs": [],
   "source": [
    "# get a look at the duplicate values for the features ----- these variables can be saved when needed\n",
    "import pandas as pd\n",
    "pd.options.display.max_rows = None\n",
    "\n",
    "def get_duplicated(my_col):\n",
    "    duplicates = primaries[primaries[my_col].duplicated(keep=False)]\n",
    "\n",
    "    print(my_col)\n",
    "    print(duplicates[my_col].nunique())\n",
    "    print(duplicates[my_col].unique())\n",
    "\n",
    "for col in primaries.columns:\n",
    "    get_duplicated(col)\n"
   ]
  },
  {
   "cell_type": "code",
   "execution_count": null,
   "metadata": {},
   "outputs": [],
   "source": [
    "# "
   ]
  },
  {
   "cell_type": "code",
   "execution_count": null,
   "metadata": {},
   "outputs": [],
   "source": []
  },
  {
   "cell_type": "code",
   "execution_count": null,
   "metadata": {},
   "outputs": [],
   "source": []
  },
  {
   "cell_type": "code",
   "execution_count": null,
   "metadata": {},
   "outputs": [],
   "source": []
  },
  {
   "cell_type": "code",
   "execution_count": null,
   "metadata": {},
   "outputs": [],
   "source": []
  },
  {
   "cell_type": "code",
   "execution_count": null,
   "metadata": {},
   "outputs": [],
   "source": []
  },
  {
   "cell_type": "code",
   "execution_count": null,
   "metadata": {},
   "outputs": [],
   "source": []
  },
  {
   "cell_type": "code",
   "execution_count": null,
   "metadata": {},
   "outputs": [],
   "source": []
  },
  {
   "cell_type": "code",
   "execution_count": null,
   "metadata": {},
   "outputs": [],
   "source": [
    "\n",
    "\n"
   ]
  },
  {
   "cell_type": "code",
   "execution_count": null,
   "metadata": {},
   "outputs": [],
   "source": []
  },
  {
   "cell_type": "code",
   "execution_count": null,
   "metadata": {},
   "outputs": [],
   "source": []
  },
  {
   "cell_type": "code",
   "execution_count": null,
   "metadata": {},
   "outputs": [],
   "source": []
  },
  {
   "cell_type": "code",
   "execution_count": null,
   "metadata": {},
   "outputs": [],
   "source": []
  },
  {
   "cell_type": "code",
   "execution_count": null,
   "metadata": {},
   "outputs": [],
   "source": []
  },
  {
   "cell_type": "code",
   "execution_count": null,
   "metadata": {},
   "outputs": [],
   "source": []
  },
  {
   "cell_type": "code",
   "execution_count": null,
   "metadata": {},
   "outputs": [],
   "source": []
  },
  {
   "cell_type": "code",
   "execution_count": null,
   "metadata": {},
   "outputs": [],
   "source": []
  },
  {
   "cell_type": "code",
   "execution_count": null,
   "metadata": {},
   "outputs": [],
   "source": []
  }
 ],
 "metadata": {
  "kernelspec": {
   "display_name": "Python 3",
   "language": "python",
   "name": "python3"
  },
  "language_info": {
   "codemirror_mode": {
    "name": "ipython",
    "version": 3
   },
   "file_extension": ".py",
   "mimetype": "text/x-python",
   "name": "python",
   "nbconvert_exporter": "python",
   "pygments_lexer": "ipython3",
   "version": "3.11.9"
  }
 },
 "nbformat": 4,
 "nbformat_minor": 2
}
