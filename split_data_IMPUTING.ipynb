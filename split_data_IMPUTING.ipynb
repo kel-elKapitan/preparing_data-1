{
 "cells": [
  {
   "cell_type": "code",
   "execution_count": 1,
   "metadata": {},
   "outputs": [],
   "source": [
    "# Retain as many rows and columns from cleaning data using Hot-Deck imputing method\n"
   ]
  },
  {
   "cell_type": "code",
   "execution_count": null,
   "metadata": {},
   "outputs": [],
   "source": [
    "\n",
    "\n"
   ]
  },
  {
   "cell_type": "code",
   "execution_count": 2,
   "metadata": {},
   "outputs": [],
   "source": [
    "# pd.options.display.max_rows = None\n"
   ]
  },
  {
   "cell_type": "code",
   "execution_count": 3,
   "metadata": {},
   "outputs": [],
   "source": [
    "# import data, split and return ram back to system by using a function that will call a separate python instance fr the function only\n",
    "\n",
    "def get_data():\n",
    "    # import modules\n",
    "    import pandas as pd\n",
    "\n",
    "    # import data\n",
    "    raw = pd.read_csv('used_cars_data.csv')\n",
    "\n",
    "    # sanity check part 1\n",
    "    print(raw.columns)\n",
    "    print(len(raw.columns))\n",
    "\n",
    "    # get categorical data, deep copy\n",
    "    raw_categorical = raw[['body_type', 'cabin', 'city', 'engine_type', 'exterior_color', 'fleet', 'frame_damaged', 'franchise_dealer', 'franchise_make', 'fuel_type', 'has_accidents', 'interior_color', 'isCab', 'is_certified', 'is_cpo', 'is_new', 'is_oemcpo', 'listing_color', 'make_name', 'model_name', 'salvage', 'sp_name', 'theft_title', 'trim_name', 'vehicle_damage_category']].copy(deep=True)\n",
    "\n",
    "    # get continuous data, deep copy\n",
    "    raw_continuious = raw[['back_legroom', 'bed', 'bed_height', 'bed_length', 'city_fuel_economy', 'combine_fuel_economy', 'daysonmarket', 'engine_cylinders', 'engine_displacement', 'front_legroom', 'fuel_tank_volume', 'height', 'highway_fuel_economy', 'horsepower', 'length', 'maximum_seating', 'mileage', 'owner_count', 'power', 'price', 'savings_amount', 'width', 'year']].copy(deep=True)\n",
    "\n",
    "    # get the problem features\n",
    "    raw_problems = raw[['description', 'major_options', 'seller_rating', 'torque', 'transmission', 'transmission_display', 'wheel_system', 'wheel_system_display', 'wheelbase']].copy(deep=True)\n",
    "\n",
    "    # get the probable primary keys\n",
    "    raw_primaries = raw[['vin', 'listing_id', 'sp_id', 'trimId']]\n",
    "\n",
    "    # get the misc, date and location features\n",
    "    raw_misc = raw[['dealer_zip', 'engine_displacement', 'listed_date', 'longitude', 'main_picture_url']]\n",
    "\n",
    "\n",
    "    # sanity check part 2\n",
    "    total_features = len(raw_categorical.columns) + len(raw_continuious.columns) + len(raw_problems.columns) + len(raw_primaries.columns) + len(raw_misc.columns)\n",
    "    print(total_features)\n",
    "\n",
    "    # return only the data you want to work with as ram allows ~9gb\n",
    "\n",
    "\n",
    "    return raw_primaries, raw_problems\n",
    "\n",
    "\n",
    "\n",
    "\n"
   ]
  },
  {
   "cell_type": "code",
   "execution_count": 4,
   "metadata": {},
   "outputs": [
    {
     "name": "stderr",
     "output_type": "stream",
     "text": [
      "C:\\Users\\mrkel\\AppData\\Local\\Temp\\ipykernel_9968\\313102347.py:8: DtypeWarning: Columns (11) have mixed types. Specify dtype option on import or set low_memory=False.\n",
      "  raw = pd.read_csv('used_cars_data.csv')\n"
     ]
    },
    {
     "name": "stdout",
     "output_type": "stream",
     "text": [
      "Index(['vin', 'back_legroom', 'bed', 'bed_height', 'bed_length', 'body_type',\n",
      "       'cabin', 'city', 'city_fuel_economy', 'combine_fuel_economy',\n",
      "       'daysonmarket', 'dealer_zip', 'description', 'engine_cylinders',\n",
      "       'engine_displacement', 'engine_type', 'exterior_color', 'fleet',\n",
      "       'frame_damaged', 'franchise_dealer', 'franchise_make', 'front_legroom',\n",
      "       'fuel_tank_volume', 'fuel_type', 'has_accidents', 'height',\n",
      "       'highway_fuel_economy', 'horsepower', 'interior_color', 'isCab',\n",
      "       'is_certified', 'is_cpo', 'is_new', 'is_oemcpo', 'latitude', 'length',\n",
      "       'listed_date', 'listing_color', 'listing_id', 'longitude',\n",
      "       'main_picture_url', 'major_options', 'make_name', 'maximum_seating',\n",
      "       'mileage', 'model_name', 'owner_count', 'power', 'price', 'salvage',\n",
      "       'savings_amount', 'seller_rating', 'sp_id', 'sp_name', 'theft_title',\n",
      "       'torque', 'transmission', 'transmission_display', 'trimId', 'trim_name',\n",
      "       'vehicle_damage_category', 'wheel_system', 'wheel_system_display',\n",
      "       'wheelbase', 'width', 'year'],\n",
      "      dtype='object')\n",
      "66\n",
      "66\n"
     ]
    }
   ],
   "source": [
    "primaries, problems = get_data()"
   ]
  },
  {
   "cell_type": "code",
   "execution_count": null,
   "metadata": {},
   "outputs": [
    {
     "name": "stdout",
     "output_type": "stream",
     "text": [
      "Index(['vin', 'listing_id', 'sp_id', 'trimId'], dtype='object')\n",
      "vin\n",
      "3000000\n",
      "3000040\n",
      " \n",
      "listing_id\n",
      "3000000\n",
      "3000040\n",
      " \n",
      "sp_id\n",
      "27097\n",
      "3000040\n",
      " \n",
      "trimId\n",
      "41329\n",
      "3000040\n",
      " \n"
     ]
    }
   ],
   "source": [
    "# checking total and discinct count on primaries features ----- can be saved to variables when needed\n",
    "\n",
    "print(primaries.columns)\n",
    "primary_cols = primaries.columns\n",
    "\n",
    "for col in primaries.columns:\n",
    "\n",
    "    distinct_num_of = primaries[col].nunique()\n",
    "\n",
    "\n",
    "    print(col)\n",
    "    print(distinct_num_of)\n",
    "    print(len(primaries[col]))\n",
    "    print(' ')\n",
    "\n"
   ]
  },
  {
   "cell_type": "code",
   "execution_count": null,
   "metadata": {},
   "outputs": [
    {
     "name": "stdout",
     "output_type": "stream",
     "text": [
      "vin\n",
      "40\n",
      "['3FA6P0H79GR344482' '3TMCZ5AN4KM203273' '1FTEW1EP0HKC03244'\n",
      " '3FADP4EJ0KM129514' '1N6AD0EV6KN713209' '5N1AZ2MS4KN121455'\n",
      " '1G1ZE5SX2LF145812' '2HKRW2H52LH679102' '1FMSK8DH8LGC57819'\n",
      " '1N4BL4DV0LC262865' '7FART6H88LE013181' '5XYPG4A31KG501728'\n",
      " '5FNYF6H94MB000906' '5FNYF6H10MB018426' '2FMPK4K97LBB07668'\n",
      " '1N4BL4BV8LC255052' '5N1AT2MV6LC789928' '5N1AZ2CSXLN157394'\n",
      " '1FA6P8TH0J5179933' '1GC4YME78LF325813' '5NPD74LF6HH156336'\n",
      " '3GNCJNSB2LL222138' '2T3F1RFV7KW018380' '1C6RR7FT5ES405345'\n",
      " 'JTNK4RBE3K3044291' '4T4BF1FK8ER375397' '2HGFC4B5XHH307282'\n",
      " '5J8YD4H33JL006938' '1GCGTDEN7H1246888' '1FADP3F29FL349680'\n",
      " '1FTFW1E43LKE95510' '2G1105S30K9136221' '1C3CCCBG4FN686074'\n",
      " '1G1FZ6S07L4132159' '1FT7W2BT8GEC69991' '1J8GN28K68W204434'\n",
      " '4S4BSACC8H3397705' 'JTEBU5JR5K5687002' '1GYKPHRS0LZ102741'\n",
      " '1G1ZE5E1XBF285533']\n",
      "listing_id\n",
      "40\n",
      "[281300319 281277789 275959609 262062836 278888747 279097853 278693371\n",
      " 281560538 275453501 277614671 279164091 279026836 275154228 280575018\n",
      " 279395960 278480029 269667406 279021308 281158317 281314083 266659505\n",
      " 259931984 279986119 277372981 278887444 281763557 278887455 278887436\n",
      " 279430834 272054180 278706876 278210324 236441395 278406530 280743273\n",
      " 268448012 277153669 279964313 245695121 277489886]\n",
      "sp_id\n",
      "26489\n",
      "[370599. 389227. 370467. ... 353876. 310674.  64910.]\n",
      "trimId\n",
      "34239\n",
      "['t83804' 't86759' 't58994' ... 't14069' 't82422' 't87556']\n"
     ]
    }
   ],
   "source": [
    "# get a look at the duplicate values for the features ----- these variables can be saved when needed\n",
    "import pandas as pd\n",
    "pd.options.display.max_rows = None\n",
    "\n",
    "def get_duplicated(my_col):\n",
    "    duplicates = primaries[primaries[my_col].duplicated(keep=False)]\n",
    "\n",
    "    print(my_col)\n",
    "    print(duplicates[my_col].nunique())\n",
    "    print(duplicates[my_col].unique())\n",
    "\n",
    "for col in primaries.columns:\n",
    "    get_duplicated(col)\n"
   ]
  },
  {
   "cell_type": "code",
   "execution_count": 7,
   "metadata": {},
   "outputs": [],
   "source": [
    "# "
   ]
  },
  {
   "cell_type": "code",
   "execution_count": null,
   "metadata": {},
   "outputs": [],
   "source": []
  },
  {
   "cell_type": "code",
   "execution_count": null,
   "metadata": {},
   "outputs": [],
   "source": []
  },
  {
   "cell_type": "code",
   "execution_count": null,
   "metadata": {},
   "outputs": [],
   "source": []
  },
  {
   "cell_type": "code",
   "execution_count": null,
   "metadata": {},
   "outputs": [],
   "source": []
  },
  {
   "cell_type": "code",
   "execution_count": null,
   "metadata": {},
   "outputs": [],
   "source": []
  },
  {
   "cell_type": "code",
   "execution_count": null,
   "metadata": {},
   "outputs": [],
   "source": []
  },
  {
   "cell_type": "code",
   "execution_count": null,
   "metadata": {},
   "outputs": [],
   "source": []
  },
  {
   "cell_type": "code",
   "execution_count": null,
   "metadata": {},
   "outputs": [],
   "source": [
    "\n",
    "\n"
   ]
  },
  {
   "cell_type": "code",
   "execution_count": null,
   "metadata": {},
   "outputs": [],
   "source": []
  },
  {
   "cell_type": "code",
   "execution_count": null,
   "metadata": {},
   "outputs": [],
   "source": []
  },
  {
   "cell_type": "code",
   "execution_count": null,
   "metadata": {},
   "outputs": [],
   "source": []
  },
  {
   "cell_type": "code",
   "execution_count": null,
   "metadata": {},
   "outputs": [],
   "source": []
  },
  {
   "cell_type": "code",
   "execution_count": null,
   "metadata": {},
   "outputs": [],
   "source": []
  },
  {
   "cell_type": "code",
   "execution_count": null,
   "metadata": {},
   "outputs": [],
   "source": []
  },
  {
   "cell_type": "code",
   "execution_count": null,
   "metadata": {},
   "outputs": [],
   "source": []
  },
  {
   "cell_type": "code",
   "execution_count": null,
   "metadata": {},
   "outputs": [],
   "source": []
  },
  {
   "cell_type": "code",
   "execution_count": null,
   "metadata": {},
   "outputs": [],
   "source": []
  }
 ],
 "metadata": {
  "kernelspec": {
   "display_name": "Python 3",
   "language": "python",
   "name": "python3"
  },
  "language_info": {
   "codemirror_mode": {
    "name": "ipython",
    "version": 3
   },
   "file_extension": ".py",
   "mimetype": "text/x-python",
   "name": "python",
   "nbconvert_exporter": "python",
   "pygments_lexer": "ipython3",
   "version": "3.11.9"
  }
 },
 "nbformat": 4,
 "nbformat_minor": 2
}
