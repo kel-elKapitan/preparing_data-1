{
 "cells": [
  {
   "cell_type": "code",
   "execution_count": null,
   "metadata": {},
   "outputs": [],
   "source": []
  },
  {
   "cell_type": "code",
   "execution_count": null,
   "metadata": {},
   "outputs": [],
   "source": []
  },
  {
   "cell_type": "code",
   "execution_count": null,
   "metadata": {},
   "outputs": [],
   "source": [
    "# analyse the data to find the best partitions to use so I can analyse the data in Power BI\n",
    "# I hope I have enough RAM ~32gb\n",
    "\n",
    "\n"
   ]
  },
  {
   "cell_type": "markdown",
   "metadata": {},
   "source": []
  },
  {
   "cell_type": "code",
   "execution_count": null,
   "metadata": {},
   "outputs": [],
   "source": [
    "# import modules\n",
    "\n",
    "import pandas as pd\n",
    "import numpy as np\n"
   ]
  },
  {
   "cell_type": "code",
   "execution_count": null,
   "metadata": {},
   "outputs": [],
   "source": [
    "# do not truncate output\n",
    "\n",
    "pd.options.display.max_rows = 4000"
   ]
  },
  {
   "cell_type": "code",
   "execution_count": null,
   "metadata": {},
   "outputs": [],
   "source": [
    "# import te data\n",
    "\n",
    "raw = pd.read_csv(\"used_cars_data.csv\")\n",
    "\n",
    "print(raw.head())"
   ]
  },
  {
   "cell_type": "code",
   "execution_count": null,
   "metadata": {},
   "outputs": [],
   "source": [
    "print(raw.columns)"
   ]
  },
  {
   "cell_type": "code",
   "execution_count": null,
   "metadata": {},
   "outputs": [],
   "source": [
    "# check for missing values in all columns\n",
    "all_missing = pd.DataFrame()\n",
    "for i in raw.columns:\n",
    "    missing = raw[i].isnull().sum()\n",
    "    missing = np.asarray(missing)\n",
    "   \n",
    "    missing = pd.Series(missing)\n",
    "\n",
    "    \n",
    "    all_missing = pd.concat([all_missing, missing])\n",
    "\n",
    "    \n",
    "\n",
    "# Combine the Series into a DataFrame\n",
    "my_columns = raw.columns\n",
    "\n",
    "my_columns = pd.Series(my_columns)\n",
    "\n",
    "my_columns = my_columns.reset_index()\n",
    "all_missing = all_missing.reset_index()\n",
    "compiled_missing = pd.concat([my_columns, all_missing], axis=1)\n",
    "\n",
    "compiled_missing.columns = ['index', 'feature', '# of missing', 'missing']\n",
    "compiled_missing = compiled_missing.reset_index(drop=True)\n",
    "compiled_missing = compiled_missing.set_index('index')\n",
    "\n",
    "print(compiled_missing)\n",
    "\n"
   ]
  },
  {
   "cell_type": "code",
   "execution_count": null,
   "metadata": {},
   "outputs": [],
   "source": [
    "print(\"Total Records: \" + str(len(raw)))\n",
    "\n",
    "# remove all records with missing ## BRUTAL CLEANING ######\n",
    "raw = raw.dropna(axis=1) # Alternative is: drop columns with >10% missing and then drop rows missing\n",
    "\n",
    "print(\"Total Records without missing values: \" + str(len(raw)))\n",
    "print(raw)"
   ]
  },
  {
   "cell_type": "code",
   "execution_count": null,
   "metadata": {},
   "outputs": [],
   "source": [
    "# save to csv to check the filesize\n",
    "# raw.to_csv('raw_brutal_cleaneding.csv', index=False) # 418mb, can now be imported into power BI"
   ]
  },
  {
   "cell_type": "code",
   "execution_count": null,
   "metadata": {},
   "outputs": [],
   "source": [
    "col_length = len(raw.columns)\n",
    "row_number = len(raw)\n"
   ]
  },
  {
   "cell_type": "code",
   "execution_count": null,
   "metadata": {},
   "outputs": [],
   "source": [
    "print(col_length)\n",
    "print(row_number)"
   ]
  },
  {
   "cell_type": "code",
   "execution_count": null,
   "metadata": {},
   "outputs": [],
   "source": [
    "lengths = pd.DataFrame([col_length, row_number])\n",
    "\n",
    "lengths.to_csv('BRUTAL_results.csv', index=False, header=False)\n"
   ]
  },
  {
   "cell_type": "code",
   "execution_count": null,
   "metadata": {},
   "outputs": [],
   "source": []
  },
  {
   "cell_type": "code",
   "execution_count": null,
   "metadata": {},
   "outputs": [],
   "source": []
  },
  {
   "cell_type": "code",
   "execution_count": null,
   "metadata": {},
   "outputs": [],
   "source": []
  }
 ],
 "metadata": {
  "kernelspec": {
   "display_name": ".venv",
   "language": "python",
   "name": "python3"
  },
  "language_info": {
   "codemirror_mode": {
    "name": "ipython",
    "version": 3
   },
   "file_extension": ".py",
   "mimetype": "text/x-python",
   "name": "python",
   "nbconvert_exporter": "python",
   "pygments_lexer": "ipython3",
   "version": "3.11.9"
  }
 },
 "nbformat": 4,
 "nbformat_minor": 2
}
